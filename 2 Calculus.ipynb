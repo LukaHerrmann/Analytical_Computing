{
 "cells": [
  {
   "cell_type": "markdown",
   "metadata": {
    "deletable": false,
    "editable": false
   },
   "source": [
    "# Analytical Computing — Inleveropdrachten Calculus\n",
    "\n",
    "De inleveropdracht bestaat uit vier onderdelen, waarvan de laatste twee in deze Jupyter Notebook zitten. Per week lever je een deel in, waarop je vervolgens feedback krijgt. Je kan deze feedback gebruiken om je werk te verbeteren, aan het einde van het blok wordt deze Notebook als portfolio beoordeeld voor je uiteindelijke cijfer.\n",
    "\n",
    "Iedere weekopdracht is verdeeld in een aantal deelopdrachten, waarbij je doorgaans iets moet programmeren om de geleerde wiskunde toe te passen. Daarnaast zijn er formatieve oefen-opdrachten waarbij je iets met de hand uit werkt, deze zijn in een ander notebook te vinden en kijken zichzelf na. Bij de code-opdrachten zal in de meeste gevallen aan het einde een test staan waarmee je kan zien of je code doet wat het moet doen. Iedere weekopdracht wordt afgesloten met een checkpoint, waar alle testen nog een keer herhaald worden. Als dit allemaal goed gaat kun je je werk op Canvas inleveren door een link naar je repository bij de juiste weekopdracht in te leveren. \n",
    "\n",
    "Voor je begint: voer het eerste code-blok uit voor alle imports.\n",
    "\n",
    "## Gebruik\n",
    "In Jupyter kan je code per cel uitvoeren. Deze cel is een tekstcel, als je deze uitvoert gebeurt er in principe niets. Je kunt wel dubbelklikken op de cell om de tekst aan te kunnen passen (dit zul je moeten doen bij de opdrachten waarbij je geen code maar tekst/formules moet schrijven). Als je de cel vervolgens uitvoert komt deze er weer als opgemaakte tekst uit te zien.\n",
    "\n",
    "Als je een code-cell uitvoert krijg je de uitvoer eronder te zien. Soms kan het zijn dat code niet uit wil voeren, zelfs code die al gegeven is. De meest gebruikelijke oorzaak is dat je een eerder code blok niet hebt uitgevoerd, waardoor Python functies of variabelen niet kan vinden. Loop de Notebook altijd van boven naar beneden door en voer in principe alles uit. Als je Jupyter afsluit en later verder gaat zal de uitvoer nog zichtbaar zijn, maar het effect van de code is niet bewaard gebleven. Je zal dan dus alle codeblokken tot waar je gebleven was opnieuw uit moeten voeren, van boven naar beneden. Gebruik de Run-knop in de toolbar of shift+enter om een blok uit te voeren.\n",
    "\n",
    "## Good Practice (AKA voorkomen dat je werk het ineens niet meer doet)\n",
    "Uitgevoerde code in een andere cel blijft in het geheugen, dus als je deze code verwijdert zie je niet meteen of je hele Notebook nog werkt. Let er daarom op als je Notebook op wilt schonen, de code soms blijft werken tot een herstart. **Als je docent de code nakijkt, start deze ook zonder alle verwijderde maar wel uitgevoerde code!** Om veilig code te verwijderen, kopieer het naar een ander document, verwijder het uit de Notebook en doe een *Restart en Run All*. Als alles nog werkt was de code niet nodig, zo niet moet je nog even goed kijken wat je weg aan het halen bent! Hanteer de volgende workflow:\n",
    "- Doe regelmatig een save, en een *Kernel/Restart en Run All*.\n",
    "- Ruim oude code op, en test met een *Kernel/Restart en Run All* dat alles blijft werken.\n",
    "- Als alles hierna nog werkt is het mogelijk tijd voor een Git commit.\n",
    "\n",
    "\n",
    "## FAQ\n",
    "**Q:** Het werkt niet! Jupyter is stom! (en ik heb de sectie \"Gebruik\" niet gelezen)\n",
    "\n",
    "**A:** Lees de sectie gebruik hierboven. \n",
    "\n",
    "**Q:** Functies / variabelen worden niet gevonden, en/of oude tests geven in een keer lange gecompliceerde errors.\n",
    "\n",
    "**A:** Herstart je kernel en voer je code van boven naar beneden uit (*Restart en Run All* kan hierbij helpen). Waarschijnlijk heb je in de tussentijd Jupyter Notebook (of zelfs alleen je Kernel, het ding dat de code uitvoert) herstart, waardoor oude code niet meer geladen is. \n",
    "\n",
    "**Q:** Ik krijg errors dat een functie niet de verwachte parameters heeft, of iets van die strekking.\n",
    "\n",
    "**A:** Mogelijk heb je een geïmporteerde functie overschreven. Herstart de kernel en voer de eerste cel opnieuw uit voor de imports. Mogelijk moet je andere cellen ook opnieuw uitvoeren, als je code functies of variabelen uit de andere cel gebruikt.\n",
    "\n",
    "**Q:** Hoe lever ik mijn werk in?\n",
    "\n",
    "**A:** Zie de uitleg bij Checkpoint Alfa in de eerste Notebook.\n",
    "\n",
    "**Q:** Wanneer moet ik inleveren?\n",
    "\n",
    "**A:** Zie [Canvas](https://canvas.hu.nl/courses/7473/assignments).\n",
    "\n",
    "## Checkpoints\n",
    "- [Charlie](#Unit-Charlie) ([checkpoint](#Checkpoint-Charlie))\n",
    "- [Delta](#Unit-Delta) ([checkpoint](#Checkpoint-Delta))"
   ]
  },
  {
   "cell_type": "code",
   "execution_count": 1,
   "metadata": {},
   "outputs": [],
   "source": [
    "import numpy as np\n",
    "from typing import Callable, Tuple, List\n",
    "from ac import Polynomial, polynomial\n",
    "from ac_formula import Negative, Sec, Cot, Csc\n",
    "import ac_tests\n",
    "import ac_formula"
   ]
  },
  {
   "cell_type": "markdown",
   "metadata": {
    "deletable": false,
    "editable": false
   },
   "source": [
    "# Unit Charlie"
   ]
  },
  {
   "cell_type": "markdown",
   "metadata": {
    "deletable": false,
    "editable": false
   },
   "source": [
    "## Opdracht 0 (30p)\n",
    "Schrijf de onderstaande functies voor het berekenen van limieten. De functie `limit_left` berekent de limiet vanaf de linkerkant, en de functie `limit_right` vanaf de rechterkant. Beide geven `None` terug als de gevraagde limiet niet bestaat. In de functie wordt een variabele `delta` ($\\delta$) bijgehouden, die aangeeft hoe ver we van de opgegeven $x$ waarde de functie proberen te benaderen. Deze variabele wordt herhaaldelijk verlaagt (door te delen door 10) totdat het verschil tussen de huidige aanroep en de vorige lager is dan de parameter `epsilon` ($\\epsilon$). Als de functie er niet in slaagt om de gevraagde waarde te benaderen (het resultaat van de functie-aanroep op $x \\pm\\delta$ is `None`) dan mag de functie `None` teruggeven.\n",
    "\n",
    "De functie `limit` combineert beide functies. Beiden worden geprobeerd, en als de resultaten minder dan $2\\epsilon$ uit elkaar liggen dan wordt het gemiddelde als benadering genomen. Anders geeft de functie `None`.\n",
    "\n",
    "Het test-blok bevat naast de gebruikelijke test ook wat functies die je kan gebruiken om je oplossing te testen en te zien wat er gebeurt. Dit zijn dezelfde functies die ook in de test gebruikt zullen worden. Je kan natuurlijk ook je eigen functies schrijven om als input te gebruiken."
   ]
  },
  {
   "cell_type": "code",
   "execution_count": 2,
   "metadata": {},
   "outputs": [],
   "source": [
    "def limit_left(func: Callable[[float], float], x: float, epsilon: float = 0.0001) -> Tuple[float, float]: # TODO\n",
    "    delta = 1 # Hoeveel zitten we links van de gevraagde waarde?\n",
    "    diff = 1\n",
    "    oldresult = x\n",
    "    while diff >= epsilon:\n",
    "        result = func(x-delta)\n",
    "        diff = abs(oldresult-result)\n",
    "        oldresult = result\n",
    "        delta /= 10\n",
    "    return result\n",
    "\n",
    "def limit_right(func: Callable[[float], float], x: float, epsilon: float = 0.0001) -> Tuple[float, float]: # TODO\n",
    "    delta = 1 # Hoeveel zitten we links van de gevraagde waarde?\n",
    "    diff = 1\n",
    "    oldresult = x\n",
    "    while diff >= epsilon:\n",
    "        result = func(x+delta)\n",
    "        diff = abs(oldresult-result)\n",
    "        oldresult = result\n",
    "        delta /= 10\n",
    "    return result\n",
    "\n",
    "def limit(func: Callable[[float], float], x: float, epsilon: float = 0.0001) -> Tuple[float, float]: # TODO\n",
    "    left = limit_left(func, x)\n",
    "    right = limit_right(func, x)\n",
    "    delta = abs(left-right)\n",
    "    if abs(left-right) < 2*epsilon:\n",
    "        return (left+right)/2\n",
    "    else:\n",
    "        return None"
   ]
  },
  {
   "cell_type": "code",
   "execution_count": 3,
   "metadata": {
    "deletable": false,
    "editable": false
   },
   "outputs": [
    {
     "data": {
      "text/markdown": [
       "### Tests\n",
       "| **Test** | **Betekenis** |\n",
       "|---:|:---|\n",
       "| `test_holes` | Zoekt de limiet van een functie die op een enkel punt undefined is |\n",
       "| `test_single_discontinuity` | Zoekt de limiet van een functie met een enkel discontinu punt |\n",
       "| `test_left_undefined_above` | Zoekt de limiet van een functie op het punt waar deze ophoudt te bestaan (rechts) |\n",
       "| `test_left_undefined_below` | Zoekt de limiet van een functie op het punt waar deze begint te bestaan (links) |\n",
       "| `test_jump` | Zoekt een niet-bestaande limiet in een piecewise functie |\n",
       "| `test_jump_left` | Zoekt de limiet van links in de piecewise functie |\n",
       "| `test_jump_right` | Zoekt de limiet van rechts in de piecewise functie |"
      ],
      "text/plain": [
       "<IPython.core.display.Markdown object>"
      ]
     },
     "metadata": {},
     "output_type": "display_data"
    },
    {
     "name": "stderr",
     "output_type": "stream",
     "text": [
      "test_holes (ac_tests.test_limit.<locals>.TestLimit) ... ok\n",
      "test_jump (ac_tests.test_limit.<locals>.TestLimit) ... ok\n",
      "test_jump_left (ac_tests.test_limit.<locals>.TestLimit) ... ok\n",
      "test_jump_right (ac_tests.test_limit.<locals>.TestLimit) ... ok\n",
      "test_left_undefined_above (ac_tests.test_limit.<locals>.TestLimit) ... ok\n",
      "test_left_undefined_below (ac_tests.test_limit.<locals>.TestLimit) ... ok\n",
      "test_single_discontinuity (ac_tests.test_limit.<locals>.TestLimit) ... ok\n",
      "\n",
      "----------------------------------------------------------------------\n",
      "Ran 7 tests in 0.016s\n",
      "\n",
      "OK\n"
     ]
    }
   ],
   "source": [
    "def discontinuous_function(x: float) -> float:\n",
    "    if x == 72:\n",
    "        return -10\n",
    "    elif x % 13 == 0:\n",
    "        return None\n",
    "    else:\n",
    "        return 2.5 * x\n",
    "\n",
    "def holes_function(x: float) -> float:\n",
    "    if x % 13 == 0:\n",
    "        return None\n",
    "    else:\n",
    "        return 2.5 * x\n",
    "    \n",
    "def single_discontinuity_function(x: float) -> float:\n",
    "    if x == 72:\n",
    "        return -10\n",
    "    else:\n",
    "        return 2.5 * x\n",
    "    \n",
    "def right_undefined_function(x: float) -> float:\n",
    "    if x >= 10:\n",
    "        return None\n",
    "    else:\n",
    "        return x+3\n",
    "\n",
    "def left_undefined_function(x: float) -> float:\n",
    "    if x <= 10:\n",
    "        return None\n",
    "    else:\n",
    "        return x+3\n",
    "\n",
    "def piecewise_function(x: float) -> float:\n",
    "    if x < -2:\n",
    "        return -1.5*x -2\n",
    "    elif x >= -2 and x <= 1:\n",
    "        return -1/3 * (x-1) + 2\n",
    "    else:\n",
    "        return x-2\n",
    "    \n",
    "ac_tests.test_limit(limit_left, limit_right, limit)"
   ]
  },
  {
   "cell_type": "markdown",
   "metadata": {
    "deletable": false,
    "editable": false
   },
   "source": [
    "## Opdracht 1 (30p)\n",
    "Schrijf een functie die een functie numeriek differentieert. De meegegeven functie wordt twee keer aangeroepen, eenmaal op punt `x` en een keer op `x+delta`; het verschil in `y` wordt gedeeld door het verschil in `x`."
   ]
  },
  {
   "cell_type": "code",
   "execution_count": 4,
   "metadata": {},
   "outputs": [],
   "source": [
    "def get_derivative_at(func: Callable[[float], float], x: float, delta: float = 0.0001) -> float: # TODO\n",
    "    return (func(x+delta) - func(x))/delta"
   ]
  },
  {
   "cell_type": "code",
   "execution_count": 5,
   "metadata": {
    "deletable": false,
    "editable": false
   },
   "outputs": [
    {
     "data": {
      "text/markdown": [
       "### Tests\n",
       "| **Test** | **Betekenis** |\n",
       "|---:|:---|\n",
       "| `test_square` | Zoekt de afgeleide van `square` op $x=2$ |\n",
       "| `test_double` | Zoekt de afgeleide van `double` op $x=2$ |\n",
       "| `test_succ` | Zoekt de afgeleide van `succ` op $x=2$ |"
      ],
      "text/plain": [
       "<IPython.core.display.Markdown object>"
      ]
     },
     "metadata": {},
     "output_type": "display_data"
    },
    {
     "name": "stderr",
     "output_type": "stream",
     "text": [
      "test_double (ac_tests.test_numeric_derivative.<locals>.TestNumericDerivative) ... ok\n",
      "test_square (ac_tests.test_numeric_derivative.<locals>.TestNumericDerivative) ... ok\n",
      "test_succ (ac_tests.test_numeric_derivative.<locals>.TestNumericDerivative) ... ok\n",
      "\n",
      "----------------------------------------------------------------------\n",
      "Ran 3 tests in 0.006s\n",
      "\n",
      "OK\n"
     ]
    }
   ],
   "source": [
    "def square(x: float) -> float:\n",
    "    return x**2\n",
    "\n",
    "def double(x: float) -> float:\n",
    "    return x*2\n",
    "\n",
    "def succ(x: float) -> float:\n",
    "    return x+1\n",
    "    \n",
    "ac_tests.test_numeric_derivative(get_derivative_at)"
   ]
  },
  {
   "cell_type": "markdown",
   "metadata": {
    "deletable": false,
    "editable": false
   },
   "source": [
    "## Opdracht 2 (90p)\n",
    "Het idee van een afgeleide wordt vooral gebruikt waneer we een functie met een formule hebben. Verderop zullen we zien hoe we van een formule de formule voor de afgeleide van een functie op elk punt kunnen berekenen. Zelfs als we geen formule maar een Python functie hebben kunnen we deze gebruiken voor het berekenen van de afgeleide: we roepen de functie aan op $x$ en $x+\\delta$ en kijken wat het verschil is.\n",
    "\n",
    "We kunnen het idee van differentiatie ook gebruiken als we helemaal geen formule hebben, maar enkel data. Als we een tabel hebben van de $x$-waarde van een functie en de bijbehorende $y$ waarde, kunnen we nog steeds zien hoeveel $y$ toeneemt (of afneemt) voor een bepaalde toename in $x$. \n",
    "\n",
    "Het bestand `verkeerssimulatie-rechteweg-posities.csv` bevat een voorbeeld van dit soort data. In het CSV bestand is elke kolom gescheiden door `;` en is de decimal-separator `.` en geeft de eerste rij de huidige positie van een aantal voertuigen. De rijen daarna geven in de eerste kolom de tijd, en in de volgende kolommen de snelheid van de voertuigen. Jullie doel is om de volgende gegevens te bepalen:\n",
    " - Voor elk voertuig de maximum en minimum snelheid en\n",
    " - een grafiek (in python code met matplotlib) van de snelheden van alle voertuigen over de gegeven tijdsperiode (van minimum tijdstip tot maximum tijdstip in het bestand).\n",
    "\n",
    "Daarnaast dient er een uitleg met onderbouwing van de techniek/methode (de achterliggende wiskundige techniek) te zijn hoe je dit doet."
   ]
  },
  {
   "cell_type": "code",
   "execution_count": 238,
   "metadata": {},
   "outputs": [],
   "source": [
    "import csv\n",
    "import matplotlib.pyplot as plot\n",
    "\n",
    "def get_data() -> Tuple[np.ndarray, np.ndarray, np.ndarray]:\n",
    "    with open(\"verkeerssimulatie-rechteweg-posities.csv\", newline=\"\") as csvfile:\n",
    "        data = list(csv.reader(csvfile, delimiter=\";\"))\n",
    "        result = [[dat[ind] for dat in data] for ind in range(len(data[0]))]\n",
    "        return result\n",
    "\n",
    "def plot_data(ys: np.ndarray, xss: List[np.ndarray]):\n",
    "    plot.plot(xss, ys)\n",
    "    plot.show()\n",
    "\n",
    "def bereken_deltas(times: np.ndarray, positions: np.ndarray) -> np.ndarray:\n",
    "    times = [float(time) for time in times]\n",
    "    positions = [float(position) for position in positions]\n",
    "    deltas = []\n",
    "    timedelta = times[2] - times[1]\n",
    "    for ind in range(len(positions)-1):\n",
    "        deltas.append((positions[ind+1]-positions[ind])/timedelta)\n",
    "    plot_data(positions, times)\n",
    "    return deltas"
   ]
  },
  {
   "cell_type": "code",
   "execution_count": 239,
   "metadata": {
    "deletable": false,
    "editable": false
   },
   "outputs": [
    {
     "data": {
      "text/markdown": [
       "### Tests\n",
       "| **Test** | **Betekenis** |\n",
       "|---:|:---|\n",
       "| `test_min_1` | De minimale waarde van de berekende snelheden klopt voor voertuig 1 |\n",
       "| `test_max_1` | De maximale waarde van de berekende snelheden klopt voor voertuig 1 |\n",
       "| `test_min_1` | De minimale waarde van de berekende snelheden klopt voor voertuig 2 |\n",
       "| `test_max_1` | De maximale waarde van de berekende snelheden klopt voor voertuig 2 |"
      ],
      "text/plain": [
       "<IPython.core.display.Markdown object>"
      ]
     },
     "metadata": {},
     "output_type": "display_data"
    },
    {
     "name": "stderr",
     "output_type": "stream",
     "text": [
      "test_max_1 (ac_tests.test_verkeer_snelheden.<locals>.TestVerkeerSnelheden) ... "
     ]
    },
    {
     "data": {
      "image/png": "[encoded data removed]",
      "text/plain": [
       "<Figure size 432x288 with 1 Axes>"
      ]
     },
     "metadata": {
      "needs_background": "light"
     },
     "output_type": "display_data"
    },
    {
     "name": "stderr",
     "output_type": "stream",
     "text": [
      "ok\n",
      "test_max_2 (ac_tests.test_verkeer_snelheden.<locals>.TestVerkeerSnelheden) ... "
     ]
    },
    {
     "data": {
      "image/png": "[encoded data removed]",
      "text/plain": [
       "<Figure size 432x288 with 1 Axes>"
      ]
     },
     "metadata": {
      "needs_background": "light"
     },
     "output_type": "display_data"
    },
    {
     "name": "stderr",
     "output_type": "stream",
     "text": [
      "ok\n",
      "test_min_1 (ac_tests.test_verkeer_snelheden.<locals>.TestVerkeerSnelheden) ... "
     ]
    },
    {
     "data": {
      "image/png": "[encoded data removed]",
      "text/plain": [
       "<Figure size 432x288 with 1 Axes>"
      ]
     },
     "metadata": {
      "needs_background": "light"
     },
     "output_type": "display_data"
    },
    {
     "name": "stderr",
     "output_type": "stream",
     "text": [
      "ok\n",
      "test_min_2 (ac_tests.test_verkeer_snelheden.<locals>.TestVerkeerSnelheden) ... "
     ]
    },
    {
     "data": {
      "image/png": "[encoded data removed]",
      "text/plain": [
       "<Figure size 432x288 with 1 Axes>"
      ]
     },
     "metadata": {
      "needs_background": "light"
     },
     "output_type": "display_data"
    },
    {
     "name": "stderr",
     "output_type": "stream",
     "text": [
      "ok\n",
      "\n",
      "----------------------------------------------------------------------\n",
      "Ran 4 tests in 0.528s\n",
      "\n",
      "OK\n"
     ]
    }
   ],
   "source": [
    "ac_tests.test_verkeer_snelheden(get_data, bereken_deltas)"
   ]
  },
  {
   "cell_type": "markdown",
   "metadata": {},
   "source": [
    "### $\\to$ Bekijk hier de theorie over de afgeleide van een functie"
   ]
  },
  {
   "cell_type": "markdown",
   "metadata": {
    "deletable": false,
    "editable": false
   },
   "source": [
    "## Opdracht 3 (30p)\n",
    "\n",
    "Schrijf een functie `get_derivative` die de afgeleide van een polynoom teruggeeft. Een polynoom wordt weergegeven met een `dict` waarbij de keys de exponenten zijn en de values hoe vaak dit exponent in de polynoom voorkomt. De dictionary `{2: 3, 1: 0, 0: 4}` staat bijvoorbeeld voor de polynoom $3x^2 + 0x + 4x^0$ oftewel $3x^2 + 4$. Als een term niet voorkomt, zoals $x$ in het voorbeeld kan deze de waare $0$ hebben, of helemaal niet in de dictionary voorkomen.\n",
    "\n",
    "De dictionary wordt samen met twee strings en een integer `primes` doorgegeven, waar je verder niet zo veel mee hoeft. De variabele `primes` begint bij een polynoom op $0$, en wordt met $1$ opgehoogd iedere keer dat de `get_derivative()` functie is aangeroepen.\n",
    "\n",
    "Je kan een polynoom leesbaar weergeven met de functie `latex_polynomial()`.\n",
    "\n",
    "Het test-blok hieronder bevat een aantal polynomen waarmee je je code kan testen, en die ook voor de uiteindelijke tests worden gebruikt. Voel je vrij zelf functies toe te voegen!\n",
    "\n",
    "We gaan er met het testen vanuit dat je functie ook zal werken voor breuken van de vorm $\\frac{1}{x^n}$ en wortels. Een breuk $\\frac{1}{x^3}$ komt namelijk overeen met de term $x^{-3}$, waarvoor hetzelfde patroon als voor bijvoobeeld $x^2$ geldt. Een wortel $\\sqrt x$ is te schrijven als $x^{\\frac{1}{2}}$ en $\\sqrt[3] x$ is $x^\\frac{1}{3}$, etc., en ook hier kunnen we hetzelfde patroon gebruiken als voor normale machten."
   ]
  },
  {
   "cell_type": "code",
   "execution_count": 8,
   "metadata": {},
   "outputs": [],
   "source": [
    "def get_derivative(poly: Polynomial) -> Polynomial: # TODO\n",
    "    \"\"\"Bereken de derivative van een simpele polynoom. De argumenten komen binnen via een tuple.\n",
    "       `label`, `var` en `primes` zijn bedoeld voor het printen van de polynoom, en niet van \n",
    "       belang voor de opdracht. Alleen `primes` moet bij differentiëren met 1 worden opgehoogd.\n",
    "       Doel van de opdracht is vooral het aanpassen van `terms`.\n",
    "    \n",
    "    Args:\n",
    "        terms (int): Een dictionary met alle coëfficienten.\n",
    "        label (str): De naam van de functie, bijvoorbeeld f.\n",
    "        var (str): De variabele van de functie, bijvoorbeeld x.\n",
    "        primes (int): Het aantal keer dat de functie gedifferentieerd is; begint op 0\n",
    "                      en wordt elke keer met 1 opgehoogd.\n",
    "\n",
    "    Returns:\n",
    "        Polynomial: (terms_derivative, label, var, primes).\"\"\"\n",
    "    \n",
    "    terms, label, var, primes = poly\n",
    "    derivative = dict()\n",
    "    for key in terms.keys():\n",
    "        derivative[key-1] = terms[key]*key\n",
    "    return (derivative, label, var, primes + 1)"
   ]
  },
  {
   "cell_type": "code",
   "execution_count": 9,
   "metadata": {
    "deletable": false,
    "editable": false
   },
   "outputs": [
    {
     "data": {
      "text/markdown": [
       "### Tests\n",
       "| **Test** | **Betekenis** |\n",
       "|---:|:---|\n",
       "| `test_squared` | Zoekt de afgeleide van `x_squared` ($x^2$) |\n",
       "| `test_recip` | Zoekt de afgeleide van `test_recip` ($\\frac{1}{x}$) |\n",
       "| `test_root` | Zoekt de afgeleide van `x_root` ($\\sqrt x$) |\n",
       "| `test_primes` | Checkt of de variabele `primes` opgehoogd is |"
      ],
      "text/plain": [
       "<IPython.core.display.Markdown object>"
      ]
     },
     "metadata": {},
     "output_type": "display_data"
    },
    {
     "name": "stderr",
     "output_type": "stream",
     "text": [
      "test_primes (ac_tests.test_polynomial_derivative.<locals>.TestNumericDerivative) ... ok\n",
      "test_recip (ac_tests.test_polynomial_derivative.<locals>.TestNumericDerivative) ... ok\n",
      "test_root (ac_tests.test_polynomial_derivative.<locals>.TestNumericDerivative) ... ok\n",
      "test_squared (ac_tests.test_polynomial_derivative.<locals>.TestNumericDerivative) ... ok\n",
      "\n",
      "----------------------------------------------------------------------\n",
      "Ran 4 tests in 0.003s\n",
      "\n",
      "OK\n"
     ]
    }
   ],
   "source": [
    "x_squared = polynomial({1: 0, 2: 1})\n",
    "x_recip = polynomial({1: 0, -1: 1})\n",
    "x_root = polynomial({1/2: 1})\n",
    "\n",
    "ac_tests.test_polynomial_derivative(get_derivative)"
   ]
  },
  {
   "cell_type": "markdown",
   "metadata": {
    "deletable": false,
    "editable": false
   },
   "source": [
    "## Opdracht 4 (30p)\n",
    "Nu gaan we echt serieus aan de gang met symbolisch differentiëren. We gaan dit doen op basis van code die ons in staat stelt om wiskundige formules symbolisch weer te geven en te manipuleren. Hiervoor wordt gebruikt gemaakt van Object Oriented Programming. Dit gaat in Python net weer even anders dan in normale OOP-programmeertalen, maar als het goed is heb je hier weinig last van. We gaan vooral per class een methode `deriv()` invullen, waarbij we gebruik kunnen maken van variabelen die in het object zijn opgeslagen. De Python manier hiervoor is `self.variabele` te gebruiken, of `self.functie()` om een methode binnen het object aan te roepen. \n",
    "\n",
    "Voor nu gaan we bezig met de volgende objecten:\n",
    "\n",
    "- `Constant(3)` maakt een constante\n",
    "- `Variable(x)` maakt een variabele\n",
    "- `Sum(left, right)` maakt een som, dus `Sum(Variable(x), Constant(1)` staat voor $x+1$\n",
    "- `Product(left, right)` maakt een product\n",
    "- `Power(base, exponent)`, `Power(Variable(x), 3)` staat voor $x^3$. Hier is geen `Constant` nodig, power werkt alleen met getallen in het exponent.\n",
    "\n",
    "In ieder object is een aantal variabelen beschikbaar, dit wordt per class in de docstring gedocumenteerd. Vergeet niet `self` te gebruiken, dus `self.left` om bijvoorbeeld linkerkant van een product te krijgen. Ook kan je de methodes `deriv()` op subobjecten aanroepen (recursie!) en de functie `simplify()` gebruiken. Deze functie is al geschreven voor ieder object, en probeert de constructie zo simpel mogelijk te houden, bijvoorbeeld door $1 \\times 1$ te vervangen door $1$ en $x \\times x$ door $x^2$. Het is verstandig na `deriv()` `.simplify()` aan te roepen. \n",
    "\n",
    "Negeer verder  de hele `def __init__(...)` handel, dit is helaas nodig omdat Python niet zo mooi objectgeorrienteerd is als Java/C#/C++, maar hier hoeven jullie niets mee. Deze 2 regels code per object zorgen ervoor dat alle andere code die in het object zit hier niet de boel ononverzichtelijk maken. Als je wilt weten hoe de objecten verder opgebouwd zijn kun je in het bestand `ac_formula.py` (ca 500 regels code) kijken.\n",
    "\n",
    "## De opdracht\n",
    "Vul de `deriv` functies in voor onderstaande functies. Voor `Constant` en `Sum` zijn deze al voorgedaan.\n",
    "Je hoeft voor nu nog geen rekening te houden met de power rule bij de exponenten."
   ]
  },
  {
   "cell_type": "code",
   "execution_count": 10,
   "metadata": {},
   "outputs": [],
   "source": [
    "class Constant(ac_formula.Constant):\n",
    "    def __init__(self, *args, **kwargs):\n",
    "        super().__init__(*args, **kwargs)\n",
    "\n",
    "    def deriv(self): # VOORBEELD\n",
    "        \"\"\" Beschikbare instance-variablen:\n",
    "            - value (getal)\n",
    "            \"\"\"\n",
    "        return Constant(0)\n",
    "\n",
    "class Variable(ac_formula.Variable):\n",
    "    def __init__(self, *args, **kwargs):\n",
    "        super().__init__(*args, **kwargs)\n",
    "\n",
    "    def deriv(self): # TODO\n",
    "        \"\"\" Beschikbare instance-variablen:\n",
    "            - label (string)\n",
    "            \"\"\"\n",
    "        return Constant(1)\n",
    "\n",
    "class Sum(ac_formula.Sum):\n",
    "    def __init__(self, *args, **kwargs):\n",
    "        super().__init__(*args, **kwargs)\n",
    "\n",
    "    def deriv(self): # VOORBEELD\n",
    "        \"\"\" Beschikbare instance-variablen:\n",
    "            - left (subformule)\n",
    "            - right (subformule)\n",
    "            \"\"\"\n",
    "#         print(self.left, self.right)\n",
    "        return Sum(self.left.deriv(), self.right.deriv()).simplify()\n",
    "\n",
    "class Product(ac_formula.Product):\n",
    "    def __init__(self, *args, **kwargs):\n",
    "        super().__init__(*args, **kwargs)\n",
    "\n",
    "    def deriv(self): # TODO\n",
    "        \"\"\" Beschikbare instance-variablen:\n",
    "            - left (subformule)\n",
    "            - right (subformule)\n",
    "            \"\"\"\n",
    "        return Sum(Product(self.left.deriv(), self.right), Product(self.left, self.right.deriv())).simplify()\n",
    "    \n",
    "class Power(ac_formula.Power):\n",
    "    def __init__(self, *args, **kwargs):\n",
    "        super().__init__(*args, **kwargs)\n",
    "\n",
    "    def deriv(self): # TODO\n",
    "        \"\"\" Beschikbare instance-variablen:\n",
    "            - base (subformule)\n",
    "            - exponent (getal)\n",
    "            \"\"\"\n",
    "        return Product(Constant(self.exponent), Power(self.base, self.exponent-1)).simplify()"
   ]
  },
  {
   "cell_type": "code",
   "execution_count": 11,
   "metadata": {
    "deletable": false,
    "editable": false
   },
   "outputs": [
    {
     "data": {
      "text/markdown": [
       "### Tests\n",
       "| **Test** | **Betekenis** |\n",
       "|---:|:---|\n",
       "| `test_variable` | Zoekt de afgeleide van $x$, test `Variable` |\n",
       "| `test_product` | Zoekt de afgeleide van $x_1 \\cdot x_2$, test `Product` |\n",
       "| `test_recip_x` | Zoekt de afgeleide van $x^{-1}$, test `Power` |\n",
       "| `test_2x_plus_3` | Zoekt de afgeleide van $2x+3$, combineert alles |"
      ],
      "text/plain": [
       "<IPython.core.display.Markdown object>"
      ]
     },
     "metadata": {},
     "output_type": "display_data"
    },
    {
     "name": "stderr",
     "output_type": "stream",
     "text": [
      "test_2x_plus_3 (ac_tests.test_symbolic_differentiation_alfa.<locals>.TestSymbolicDifferentiationAlfa) ... ok\n",
      "test_product (ac_tests.test_symbolic_differentiation_alfa.<locals>.TestSymbolicDifferentiationAlfa) ... ok\n",
      "test_recip_x (ac_tests.test_symbolic_differentiation_alfa.<locals>.TestSymbolicDifferentiationAlfa) ... ok\n",
      "test_variable (ac_tests.test_symbolic_differentiation_alfa.<locals>.TestSymbolicDifferentiationAlfa) ... ok\n",
      "\n",
      "----------------------------------------------------------------------\n",
      "Ran 4 tests in 0.004s\n",
      "\n",
      "OK\n"
     ]
    }
   ],
   "source": [
    "ac_tests.test_symbolic_differentiation_alfa(Constant, Variable, Sum, Product, Power)"
   ]
  },
  {
   "cell_type": "markdown",
   "metadata": {
    "deletable": false,
    "editable": false
   },
   "source": [
    "## Opdracht 5 (30p)\n",
    "\n",
    "We gaan onze toolbox verder uitbreiden met een aantal goniometrische functies: $\\text{sin}$, $\\text{cos}$ en $\\text{tan}$. Je kan waar nodig het object `Negative` gebruiken om iets negatief te maken; dit geldt ook voor constanten, je kan beter `Negative(Constant(2))` gebruiken dan `Constant(-2)`, omdat het systeem beter in staat is formules op die manier te versimpelen. `Negative` heeft een enkele variabele, `inverse`. De chain-rule / kettingregel laten we nog even achterwege, dit komt in een latere opdracht."
   ]
  },
  {
   "cell_type": "code",
   "execution_count": 28,
   "metadata": {},
   "outputs": [],
   "source": [
    "class Sin(ac_formula.Sin):\n",
    "    def __init__(self, *args, **kwargs):\n",
    "        super().__init__(*args, **kwargs)\n",
    "\n",
    "    def deriv(self): # TODO\n",
    "        \"\"\" Beschikbare instance-variablen:\n",
    "            - argument (subformule)\n",
    "            \"\"\"\n",
    "        return Cos(self.argument)\n",
    "    \n",
    "class Tan(ac_formula.Tan):\n",
    "    def __init__(self, *args, **kwargs):\n",
    "        super().__init__(*args, **kwargs)\n",
    "\n",
    "    def deriv(self): # TODO\n",
    "        \"\"\" Beschikbare instance-variablen:\n",
    "            - argument (subformule)\n",
    "            \"\"\"\n",
    "        return Power(Sec(self.argument), 2)\n",
    "\n",
    "class Cos(ac_formula.Cos):\n",
    "    def __init__(self, *args, **kwargs):\n",
    "        super().__init__(*args, **kwargs)\n",
    "\n",
    "    def deriv(self): # TODO\n",
    "        \"\"\" Beschikbare instance-variablen:\n",
    "            - argument (subformule)\n",
    "            \"\"\"\n",
    "        return Negative(Sin(self.argument))"
   ]
  },
  {
   "cell_type": "code",
   "execution_count": 29,
   "metadata": {
    "deletable": false,
    "editable": false
   },
   "outputs": [
    {
     "data": {
      "text/markdown": [
       "### Tests\n",
       "| **Test** | **Betekenis** |\n",
       "|---:|:---|\n",
       "| `test_sin` | Zoekt de afgeleide van $\\text{sin}(x)$ |\n",
       "| `test_cos` | Zoekt de afgeleide van $\\text{cos}(x)$ |\n",
       "| `test_tan` | Zoekt de afgeleide van $\\text{tan}(x)$ |"
      ],
      "text/plain": [
       "<IPython.core.display.Markdown object>"
      ]
     },
     "metadata": {},
     "output_type": "display_data"
    },
    {
     "name": "stderr",
     "output_type": "stream",
     "text": [
      "test_cos (ac_tests.test_symbolic_differentiation_bravo.<locals>.TestSymbolicDifferentiationBravo) ... ok\n",
      "test_sin (ac_tests.test_symbolic_differentiation_bravo.<locals>.TestSymbolicDifferentiationBravo) ... ok\n",
      "test_tan (ac_tests.test_symbolic_differentiation_bravo.<locals>.TestSymbolicDifferentiationBravo) ... ok\n",
      "\n",
      "----------------------------------------------------------------------\n",
      "Ran 3 tests in 0.003s\n",
      "\n",
      "OK\n"
     ]
    }
   ],
   "source": [
    "ac_tests.test_symbolic_differentiation_bravo(Constant, Variable, Sum, Product, Power, Sin, Cos, Tan)"
   ]
  },
  {
   "cell_type": "markdown",
   "metadata": {
    "deletable": false,
    "editable": false
   },
   "source": [
    "## Opdracht 6 (30p)\n",
    "De laatste objecten die we willen toevoegen zijn exponenten en logaritmen. `Exponent` en `Log` krijgen een `base` mee, `E` en `Ln` hebben geen base nodig, dit is namelijk het getal $e \\approx 2.71828$. Voor `E` en `Ln` gelden speciale regels met afleiden, vandaar dat deze eigen objecten hebben.\n",
    "\n",
    "Exponent is als `Power`, maar hier is het exponent een subformule in plaats van een enkel getal. $x^2$ kan dus `Power(Variable('x'), 2)` of `Exponent(Variable('x'), Constant(2))` zijn. $2^x$ is alleen met `Exponent(Constant(2), Variable('x'))` uit te drukken. De chain-rule / kettingregel laten we nog even achterwege, dit komt in de volgende opdracht.\n",
    "\n",
    "#### Belangrijke voetnoot bij tests\n",
    "\n",
    "Nu we langzaam bij gecompliceerdere functies aankomen kan het soms zijn dat een test faalt, terwijl het antwoord goed is. Het systeem doet z'n uiterste best formules te herschrijven zodat dit niet gebeurt, maar soms zal je ergens misschien net iets andersom hebben staan ($x+y$ in plaats van $y+x$) en rekent de test je werk fout. Soms is dit dus op te lossen door ergens je argumenten om te draaien, maar belangrijker nog: **kijk zelf of je antwoord klopt met je verwachting, of met bijvoorbeeld [Wolfram Alpha](https://www.wolframalpha.com). Je antwoord kan goed zijn zonder dat de test dit kan herkennen!** Bij twijfel: vraag je docent.\n",
    "\n",
    "Om een indicatie te geven of een afgekeurd antwoord toch goed is, is voor elke test een tweede variant beschikbaar, met het achtervoegsel `_equivalent`. Deze test niet of dezelfde formule wordt teruggegeven, maar probeert de formule uit en vergelijkt deze met het verwachte antwoord. Een `ok` hier is geen garantie dat je oplossing helemaal klopt, maar is wel een redelijke indicatie. "
   ]
  },
  {
   "cell_type": "code",
   "execution_count": 102,
   "metadata": {},
   "outputs": [],
   "source": [
    "class E(ac_formula.E):\n",
    "    def __init__(self, *args, **kwargs):\n",
    "        super().__init__(*args, **kwargs)\n",
    "\n",
    "    def deriv(self): # TODO\n",
    "        \"\"\" Beschikbare instance-variablen:\n",
    "            - exponent (subformule)\n",
    "            \"\"\"\n",
    "        return self\n",
    "    \n",
    "class Exponent(ac_formula.Exponent):\n",
    "    def __init__(self, *args, **kwargs):\n",
    "        super().__init__(*args, **kwargs)\n",
    "\n",
    "    def deriv(self): # TODO\n",
    "        \"\"\" Beschikbare instance-variablen:\n",
    "            - base (subformule)\n",
    "            - exponent (subformule)\n",
    "            \"\"\"\n",
    "        return Product(self, Ln(self.base))\n",
    "    \n",
    "class Ln(ac_formula.Ln):\n",
    "    def __init__(self, *args, **kwargs):\n",
    "        super().__init__(*args, **kwargs)\n",
    "\n",
    "    def deriv(self): # TODO\n",
    "        \"\"\" Beschikbare instance-variablen:\n",
    "            - argument (subformule)\n",
    "            \"\"\"\n",
    "        return Power(self.argument, -1)\n",
    "    \n",
    "class Log(ac_formula.Log):\n",
    "    def __init__(self, *args, **kwargs):\n",
    "        super().__init__(*args, **kwargs)\n",
    "\n",
    "    def deriv(self): # TODO\n",
    "        \"\"\" Beschikbare instance-variablen:\n",
    "            - base (subformule)\n",
    "            - argument (subformule)\n",
    "            \"\"\"\n",
    "        return Power(Product(self.argument, Ln(self.base)), -1)"
   ]
  },
  {
   "cell_type": "code",
   "execution_count": 103,
   "metadata": {
    "deletable": false,
    "editable": false
   },
   "outputs": [
    {
     "data": {
      "text/markdown": [
       "### Tests\n",
       "\n",
       "| **Test** | **Betekenis** |\n",
       "|---:|:---|\n",
       "| `test_exponent` | Zoekt de afgeleide van $a^x$, met $a$ als constante |\n",
       "| `test_log` | Zoekt de afgeleide van $\\text{log}_a(x)$, met $a$ als constante |\n",
       "| `test_e` | Zoekt de afgeleide van $e^x$ |\n",
       "| `test_ln` | Zoekt de afgeleide van $\\text{ln}(x)$ |"
      ],
      "text/plain": [
       "<IPython.core.display.Markdown object>"
      ]
     },
     "metadata": {},
     "output_type": "display_data"
    },
    {
     "name": "stderr",
     "output_type": "stream",
     "text": [
      "test_e (ac_tests.test_symbolic_differentiation_charlie.<locals>.TestSymbolicDifferentiationCharlie) ... ok\n",
      "test_exponent (ac_tests.test_symbolic_differentiation_charlie.<locals>.TestSymbolicDifferentiationCharlie) ... ok\n",
      "test_ln (ac_tests.test_symbolic_differentiation_charlie.<locals>.TestSymbolicDifferentiationCharlie) ... ok\n",
      "test_log (ac_tests.test_symbolic_differentiation_charlie.<locals>.TestSymbolicDifferentiationCharlie) ... ok\n",
      "\n",
      "----------------------------------------------------------------------\n",
      "Ran 4 tests in 0.004s\n",
      "\n",
      "OK\n",
      "test_e_equivalent (ac_tests.test_symbolic_differentiation_charlie_eq.<locals>.TestSymbolicDifferentiationCharlieEq) ... ok\n",
      "test_exponent_equivalent (ac_tests.test_symbolic_differentiation_charlie_eq.<locals>.TestSymbolicDifferentiationCharlieEq) ... ok\n",
      "test_ln_equivalent (ac_tests.test_symbolic_differentiation_charlie_eq.<locals>.TestSymbolicDifferentiationCharlieEq) ... ok\n",
      "test_log_equivalent (ac_tests.test_symbolic_differentiation_charlie_eq.<locals>.TestSymbolicDifferentiationCharlieEq) ... ok\n",
      "\n",
      "----------------------------------------------------------------------\n",
      "Ran 4 tests in 0.004s\n",
      "\n",
      "OK\n"
     ]
    }
   ],
   "source": [
    "ac_tests.test_symbolic_differentiation_charlie(Constant, Variable, Sum, Product, Power, Sin, Cos, Tan, E, Exponent, Ln, Log)\n",
    "ac_tests.test_symbolic_differentiation_charlie_eq(Constant, Variable, Sum, Product, Power, Sin, Cos, Tan, E, Exponent, Ln, Log)"
   ]
  },
  {
   "cell_type": "markdown",
   "metadata": {
    "deletable": false,
    "editable": false
   },
   "source": [
    "## Opdracht 7 (30p)\n",
    "Tot slot gaan we `Power`, `Sin`, `Cos`, `Tan`, `E`, `Exponent`, `Ln` en `Log` aanpassen om rekening te houden met de chain rule. De buitenste functie wordt gedifferentieerd met betrekking to de binnenste functie, en het geheel wordt vermenigvuldigd met de afgeleide van de binnenste functie. Bijvoorbeeld $\\text{sin}^2x$ (een fancy manier van schrijven voor $\\sin(x)^2$:\n",
    "\n",
    "Voorheen (fout):\n",
    "$f^{}(x) =\\text{sin}^{2}x, \\quad f^{\\prime}(x) =2 \\  \\text{sin}(x)$\n",
    "\n",
    "Nu (goed):\n",
    "$f^{\\prime}(x) =2 \\  \\text{cos}(x) \\  \\text{sin}(x)$"
   ]
  },
  {
   "cell_type": "code",
   "execution_count": 194,
   "metadata": {},
   "outputs": [],
   "source": [
    "class Power(ac_formula.Power):\n",
    "    def __init__(self, *args, **kwargs):\n",
    "        super().__init__(*args, **kwargs)\n",
    "\n",
    "    def deriv(self): # TODO\n",
    "        return Product(Product(Constant(self.exponent), self.base.deriv()), self.base)\n",
    "\n",
    "class Sin(ac_formula.Sin):\n",
    "    def __init__(self, *args, **kwargs):\n",
    "        super().__init__(*args, **kwargs)\n",
    "\n",
    "    def deriv(self): # TODO\n",
    "        return Cos(self.argument)\n",
    "    \n",
    "class Tan(ac_formula.Tan):\n",
    "    def __init__(self, *args, **kwargs):\n",
    "        super().__init__(*args, **kwargs)\n",
    "\n",
    "    def deriv(self): # TODO\n",
    "        return Power(Sec(self.argument), 2)\n",
    "\n",
    "class Cos(ac_formula.Cos):\n",
    "    def __init__(self, *args, **kwargs):\n",
    "        super().__init__(*args, **kwargs)\n",
    "\n",
    "    def deriv(self): # TODO\n",
    "        return Negative(Sin(self.argument))\n",
    "\n",
    "class E(ac_formula.E):\n",
    "    def __init__(self, *args, **kwargs):\n",
    "        super().__init__(*args, **kwargs)\n",
    "\n",
    "    def deriv(self): # TODO\n",
    "        return Product(Product(Constant(self.exponent.exponent), self.exponent.base), self)\n",
    "    \n",
    "class Exponent(ac_formula.Exponent):\n",
    "    def __init__(self, *args, **kwargs):\n",
    "        super().__init__(*args, **kwargs)\n",
    "\n",
    "    def deriv(self): # TODO\n",
    "        return Product(self.exponent, Product(self, Ln(self.base)))\n",
    "    \n",
    "class Ln(ac_formula.Ln):\n",
    "    def __init__(self, *args, **kwargs):\n",
    "        super().__init__(*args, **kwargs)\n",
    "\n",
    "    def deriv(self): # TODO\n",
    "        return Product(Constant(self.argument.exponent), Power(self.argument.base, -1))\n",
    "    \n",
    "class Log(ac_formula.Log):\n",
    "    def __init__(self, *args, **kwargs):\n",
    "        super().__init__(*args, **kwargs)\n",
    "\n",
    "    def deriv(self): # TODO\n",
    "        return Power(Ln(self.base), -1)"
   ]
  },
  {
   "cell_type": "code",
   "execution_count": 195,
   "metadata": {
    "deletable": false,
    "editable": false
   },
   "outputs": [
    {
     "data": {
      "text/markdown": [
       "### Tests\n",
       "#### `test_sin_squared_x`\n",
       "$$f^{}(x) =\\text{sin}^{2}x \\mapsto f^{\\prime}(x) =2 \\  \\text{cos}(x) \\  \\text{sin}(x)$$\n",
       "\n",
       "#### `test_e_x_squared`\n",
       "$$f^{}(x) =e^{x^{2}} \\mapsto f^{\\prime}(x) =2x \\  e^{x^{2}}$$\n",
       "\n",
       "#### `test_five_to_the_e_x`\n",
       "$$f^{}(x) =5^{e^{x}} \\mapsto f^{\\prime}(x) =e^{x} \\  5^{e^{x}} \\  \\text{ln}(5)$$\n",
       "\n",
       "#### `test_ln_x_squared`\n",
       "$$f^{}(x) =\\text{ln}(x^{2}) \\mapsto f^{\\prime}(x) =\\frac{2}{x}$$\n",
       "\n",
       "#### `test_five_log_e_x`\n",
       "$$f^{}(x) =\\text{log}_{5}(e^{x}) \\mapsto f^{\\prime} =\\frac{1}{\\text{ln}(5)}$$"
      ],
      "text/plain": [
       "<IPython.core.display.Markdown object>"
      ]
     },
     "metadata": {},
     "output_type": "display_data"
    },
    {
     "name": "stderr",
     "output_type": "stream",
     "text": [
      "test_e_x_squared (ac_tests.test_symbolic_differentiation_delta.<locals>.TestSymbolicDifferentiationDelta) ... ok\n",
      "test_five_log_e_x (ac_tests.test_symbolic_differentiation_delta.<locals>.TestSymbolicDifferentiationDelta) ... ok\n",
      "test_five_to_the_e_x (ac_tests.test_symbolic_differentiation_delta.<locals>.TestSymbolicDifferentiationDelta) ... ok\n",
      "test_ln_x_squared (ac_tests.test_symbolic_differentiation_delta.<locals>.TestSymbolicDifferentiationDelta) ... ok\n",
      "test_sin_squared_x (ac_tests.test_symbolic_differentiation_delta.<locals>.TestSymbolicDifferentiationDelta) ... ok\n",
      "\n",
      "----------------------------------------------------------------------\n",
      "Ran 5 tests in 0.005s\n",
      "\n",
      "OK\n",
      "test_e_x_squared_equivalent (ac_tests.test_symbolic_differentiation_delta_eq.<locals>.TestSymbolicDifferentiationDeltaEq) ... ok\n",
      "test_five_log_e_x_equivalent (ac_tests.test_symbolic_differentiation_delta_eq.<locals>.TestSymbolicDifferentiationDeltaEq) ... ok\n",
      "test_five_to_the_e_x_equivalent (ac_tests.test_symbolic_differentiation_delta_eq.<locals>.TestSymbolicDifferentiationDeltaEq) ... ok\n",
      "test_ln_x_squared_equivalent (ac_tests.test_symbolic_differentiation_delta_eq.<locals>.TestSymbolicDifferentiationDeltaEq) ... ok\n",
      "test_sin_squared_x_equivalent (ac_tests.test_symbolic_differentiation_delta_eq.<locals>.TestSymbolicDifferentiationDeltaEq) ... ok\n",
      "\n",
      "----------------------------------------------------------------------\n",
      "Ran 5 tests in 0.004s\n",
      "\n",
      "OK\n"
     ]
    }
   ],
   "source": [
    "ac_tests.test_symbolic_differentiation_delta(Constant, Variable, Sum, Product, Power, Sin, Cos, Tan, E, Exponent, Ln, Log)\n",
    "ac_tests.test_symbolic_differentiation_delta_eq(Constant, Variable, Sum, Product, Power, Sin, Cos, Tan, E, Exponent, Ln, Log)"
   ]
  },
  {
   "cell_type": "markdown",
   "metadata": {
    "deletable": false,
    "editable": false
   },
   "source": [
    "# Checkpoint Charlie\n",
    "Als je alles hierboven hebt gemaakt kun je je werk inleveren. Als de testen aangeven dat er nog fouten in zitten, probeer deze dan te verbeteren, maar schroom ook niet om de docent om hulp te vragen als je er niet uitkomt.\n",
    "\n",
    "Om je werk in te leveren moet je er allereerst voor zorgen dat je Notebook is opgeslagen (ctrl-s of het icoontje in de toolbar). Daarna kun je een Git-commit maken en deze naar je eigen GitHub of GitLab pushen. De link naar je repository is uiteindelijk wat je inlevert op Canvas, om de docent een seintje te geven dat er werk te beoordelen is."
   ]
  },
  {
   "cell_type": "markdown",
   "metadata": {
    "deletable": false,
    "editable": false
   },
   "source": [
    "# Unit Delta\n",
    "Waar we bij de afgeleide de mate van verandering zoeken bij data of een formule (bijvoorbeeld de snelheid als we de positie weten), zijn we bij integreren juist op zoek naar een totaal dat opgebouwd wordt. Als we bijvoorbeeld de snelheid van een voertuig weten, dan kunnen we de afgelegde afstand ook bepalen. Dat kan heel grof (een auto die een uur lang exact 80 heeft gereden is 80 kilometer opgeschoten) maar meestal is de data niet zo overzichtelijk. De auto begon in stilstand, en tijdens het optrekken is de snelheid constant veranderd. Op een gegeven moment reed de auto misschien langere tijd 80 op een provinciale weg, maar ook dan is de snelheid nooit echt constant. Alleen als we op ieder gegeven moment de snelheid weten kunnen we de totale afstand echt zeker weten."
   ]
  },
  {
   "cell_type": "markdown",
   "metadata": {
    "deletable": false,
    "editable": false
   },
   "source": [
    "## Opdracht 8 (120p)\n",
    "Deze opdracht heeft te maken met [opdracht 2](#Opdracht-2), en is eigenlijk een soort tegenovergesteld op dezelfde manier dat integreren de tegenovergestelde operatie van differentiëren is. \n",
    "\n",
    "Als we een formule hebben die die snelheid bepaalt, en de formule is continu, dan is het mogelijk tot exacte antwoorden te komen (en hier zullen we later meer van zien). Voor nu hebben we echter weer een CSV-bestand `verkeerssimulatie-rechteweg-snelheden.csv` met data, met een nauwkeurigheid van 0.1 seconde. Het betand is in hetzelfde formaat als bij opdracht 2, maar nu hebben we drie kolommen voor drie voertuigen die op dezelfde rechte weg rijden. We gaan ervan uit dat tussen de meetpunten de snelheid lineair toeneemt en dat een voertuig een lengte van 2 meter heeft.\n",
    "\n",
    "Jullie doel voor deze opdracht is om de volgende gegevens te bepalen:\n",
    " - Het tijdstip van de eerste botsing en welke voertuigen dit zijn en\n",
    " - een grafiek (met behulp van [matplotlib](https://matplotlib.org/3.2.1/api/_as_gen/matplotlib.pyplot.plot.html)) van de posities van de voertuigen over de gegeven tijdsperiode (van minimum tijdstip tot maximum tijdstip in het bestand) en ingezoomd rond de eerste botsing.\n",
    " \n",
    "Daarnaast dient er een uitleg met onderbouwing van de techniek/methode (de achterliggende wiskundige techniek) te zijn hoe je dit doet.\n",
    "\n",
    "Als je antwoord in de buurt komt, maar niet nauwkeurig genoeg is, dan gebruik je mogelijk left- of right-Riemann sums; probeer je nauwkeurigheid te verbeteren door de trapezoid rule te gebruiken."
   ]
  },
  {
   "cell_type": "code",
   "execution_count": 18,
   "metadata": {},
   "outputs": [],
   "source": [
    "import csv\n",
    "import matplotlib.pyplot as plot\n",
    "\n",
    "def get_data() -> Tuple[np.ndarray, np.ndarray, np.ndarray, np.ndarray]: # TODO\n",
    "    with open(\"verkeerssimulatie-rechteweg-snelheden.csv\", newline=\"\") as csvfile:\n",
    "        data = csv.reader(csvfile, delimiter=\";\")\n",
    "        for row in data:\n",
    "            length = len(row)\n",
    "            break\n",
    "        result = [[dat[ind] for dat in data] for ind in range(length)]\n",
    "        return result\n",
    "        \n",
    "\n",
    "def plot_data(ys: np.ndarray, xss: List[np.ndarray], xrange: Tuple[int,int] = None, yrange: Tuple[int,int] = None):\n",
    "    \"\"\"Optionele argumenten xrange en yrange om ingezoomde plot te maken op de botsing\"\"\"\n",
    "    return (0, 0, 0, 0)\n",
    "\n",
    "def bereken_posities(times: np.ndarray, speeds: np.ndarray) -> np.ndarray: # TODO\n",
    "    return (0, 0, 0, 0)\n",
    "\n",
    "def vind_botsing(t, car1, car2, car3) -> Tuple[float, int, float, int, float]: # TODO\n",
    "    \"\"\" Geeft een vijf-tupel terug met de tijd van de botsing, de eerste auto (1,2 of 3),\n",
    "        de positie van de eerste auto, de tweede auto en de positie daarvan.\"\"\"\n",
    "    return (0, 0, 0, 0, 0)\n",
    "    return None # (botsing_t, botsing_a, botsing_a_pos, botsing_b, botsing_b_pos)"
   ]
  },
  {
   "cell_type": "code",
   "execution_count": 19,
   "metadata": {
    "deletable": false,
    "editable": false
   },
   "outputs": [
    {
     "data": {
      "text/markdown": [
       "### Tests\n",
       "| **Test** | **Betekenis** |\n",
       "|---:|:---|\n",
       "| `test_time` | Controlleert de tijd van de botsing |\n",
       "| `test_car_a` | Controlleert de identiteit van de eerste auto |\n",
       "| `test_car_a_pos` | Controlleert de positie van de eerste auto |\n",
       "| `test_car_b` | Controlleert de identiteit van de tweede auto |\n",
       "| `test_car_b_pos` | Controlleert de positie van de tweede auto |"
      ],
      "text/plain": [
       "<IPython.core.display.Markdown object>"
      ]
     },
     "metadata": {},
     "output_type": "display_data"
    },
    {
     "name": "stderr",
     "output_type": "stream",
     "text": [
      "test_car_a (ac_tests.test_verkeer_posities.<locals>.TestVerkeerPosities) ... FAIL\n",
      "test_car_a_pos (ac_tests.test_verkeer_posities.<locals>.TestVerkeerPosities) ... FAIL\n",
      "test_car_b (ac_tests.test_verkeer_posities.<locals>.TestVerkeerPosities) ... FAIL\n",
      "test_car_b_pos (ac_tests.test_verkeer_posities.<locals>.TestVerkeerPosities) ... FAIL\n",
      "test_time (ac_tests.test_verkeer_posities.<locals>.TestVerkeerPosities) ... FAIL\n",
      "\n",
      "======================================================================\n",
      "FAIL: test_car_a (ac_tests.test_verkeer_posities.<locals>.TestVerkeerPosities)\n",
      "----------------------------------------------------------------------\n",
      "Traceback (most recent call last):\n",
      "  File \"C:\\Users\\lukaj\\Jupyter\\AC\\v1ac\\ac_tests.py\", line 727, in test_car_a\n",
      "    np.testing.assert_equal(self.ca, 2)\n",
      "  File \"c:\\users\\lukaj\\appdata\\local\\programs\\python\\python39\\lib\\site-packages\\numpy\\testing\\_private\\utils.py\", line 423, in assert_equal\n",
      "    raise AssertionError(msg)\n",
      "AssertionError: \n",
      "Items are not equal:\n",
      " ACTUAL: 0\n",
      " DESIRED: 2\n",
      "\n",
      "======================================================================\n",
      "FAIL: test_car_a_pos (ac_tests.test_verkeer_posities.<locals>.TestVerkeerPosities)\n",
      "----------------------------------------------------------------------\n",
      "Traceback (most recent call last):\n",
      "  File \"C:\\Users\\lukaj\\Jupyter\\AC\\v1ac\\ac_tests.py\", line 731, in test_car_a_pos\n",
      "    np.testing.assert_almost_equal(self.cap, 657.4, 1)\n",
      "  File \"c:\\users\\lukaj\\appdata\\local\\programs\\python\\python39\\lib\\site-packages\\numpy\\testing\\_private\\utils.py\", line 597, in assert_almost_equal\n",
      "    raise AssertionError(_build_err_msg())\n",
      "AssertionError: \n",
      "Arrays are not almost equal to 1 decimals\n",
      " ACTUAL: 0\n",
      " DESIRED: 657.4\n",
      "\n",
      "======================================================================\n",
      "FAIL: test_car_b (ac_tests.test_verkeer_posities.<locals>.TestVerkeerPosities)\n",
      "----------------------------------------------------------------------\n",
      "Traceback (most recent call last):\n",
      "  File \"C:\\Users\\lukaj\\Jupyter\\AC\\v1ac\\ac_tests.py\", line 729, in test_car_b\n",
      "    np.testing.assert_equal(self.cb, 3)\n",
      "  File \"c:\\users\\lukaj\\appdata\\local\\programs\\python\\python39\\lib\\site-packages\\numpy\\testing\\_private\\utils.py\", line 423, in assert_equal\n",
      "    raise AssertionError(msg)\n",
      "AssertionError: \n",
      "Items are not equal:\n",
      " ACTUAL: 0\n",
      " DESIRED: 3\n",
      "\n",
      "======================================================================\n",
      "FAIL: test_car_b_pos (ac_tests.test_verkeer_posities.<locals>.TestVerkeerPosities)\n",
      "----------------------------------------------------------------------\n",
      "Traceback (most recent call last):\n",
      "  File \"C:\\Users\\lukaj\\Jupyter\\AC\\v1ac\\ac_tests.py\", line 733, in test_car_b_pos\n",
      "    np.testing.assert_almost_equal(self.cbp, 658.5, 1)\n",
      "  File \"c:\\users\\lukaj\\appdata\\local\\programs\\python\\python39\\lib\\site-packages\\numpy\\testing\\_private\\utils.py\", line 597, in assert_almost_equal\n",
      "    raise AssertionError(_build_err_msg())\n",
      "AssertionError: \n",
      "Arrays are not almost equal to 1 decimals\n",
      " ACTUAL: 0\n",
      " DESIRED: 658.5\n",
      "\n",
      "======================================================================\n",
      "FAIL: test_time (ac_tests.test_verkeer_posities.<locals>.TestVerkeerPosities)\n",
      "----------------------------------------------------------------------\n",
      "Traceback (most recent call last):\n",
      "  File \"C:\\Users\\lukaj\\Jupyter\\AC\\v1ac\\ac_tests.py\", line 725, in test_time\n",
      "    np.testing.assert_equal(self.t, 28.2)\n",
      "  File \"c:\\users\\lukaj\\appdata\\local\\programs\\python\\python39\\lib\\site-packages\\numpy\\testing\\_private\\utils.py\", line 423, in assert_equal\n",
      "    raise AssertionError(msg)\n",
      "AssertionError: \n",
      "Items are not equal:\n",
      " ACTUAL: 0\n",
      " DESIRED: 28.2\n",
      "\n",
      "----------------------------------------------------------------------\n",
      "Ran 5 tests in 0.009s\n",
      "\n",
      "FAILED (failures=5)\n"
     ]
    }
   ],
   "source": [
    "ac_tests.test_verkeer_posities(get_data, bereken_posities, vind_botsing)"
   ]
  },
  {
   "cell_type": "markdown",
   "metadata": {
    "deletable": false,
    "editable": false
   },
   "source": [
    "## Opdracht 9 (120p)\n",
    "In deze opdracht gaan we nogmaals numeriek integreren, maar in dit geval hebben we geen data-bestand om in te lezen, maar krijgen we een functie mee en twee x-waarden waartussen we de integraal willen weten.\n",
    "Om deze te berekenen gaan we een Riemann-som opstellen, waarbij je zelf mag kiezen welke variant je gebruikt **(wel moet je aangeven welke je gebruikt, en moet dit kloppen met je code)**. \n",
    "\n",
    "We kunnen de meegegeven functie `func` gebruiken om de data binnen de loop on-the-fly voor ons te genereren. Je mag er hierbij vanuit gaan dat `x1` links van `x2` ligt, dus dat je een loop kan maken die op `x1` begint en doorloopt tot `x2`. We hanteren als stapgrootte de meegegeven parameter `delta`.\n",
    "\n",
    "Verder meegegeven een drietal functies waarmee je implementatie getest zal worden. `pi`[[graph](https://www.desmos.com/calculator/qxliatgfpc)] geeft, voor de integraal tussen $0$ en $1$ een benadering van $\\pi$, `gauss`[[graph](https://www.desmos.com/calculator/r3qh9jjqqf)] is gerelateerd aand de de normaal-verdeling die jullie in blok B gezien hebben, en `bizarre` [[graph](https://www.desmos.com/calculator/8v8r4m0btq)] is een harige functie die we absoluut niet met de hand willen uitrekenen."
   ]
  },
  {
   "cell_type": "code",
   "execution_count": 20,
   "metadata": {},
   "outputs": [],
   "source": [
    "def get_integral_between(func: Callable[[float], float], x1: float, x2: float, delta: float = 0.0001) -> float: # TODO\n",
    "    pass"
   ]
  },
  {
   "cell_type": "code",
   "execution_count": 21,
   "metadata": {
    "deletable": false,
    "editable": false
   },
   "outputs": [
    {
     "data": {
      "text/markdown": [
       "### Tests\n",
       "| **Test** | **Betekenis** |\n",
       "|---:|:---|\n",
       "| `test_pi` | Zoekt de integraal van `pi` op $[0,1]$, dit zou $\\pi$ moeten benaderen  |\n",
       "| `test_gauss` | Zoekt de integraal van `gauss` op $[-100,100]$, dit zou $\\sqrt\\pi$ moeten benaderen |\n",
       "| `test_bizarre` | Zoekt de integraal van `bizarre` voor de middelste heuvel, dit zou $1.86$ moeten benaderen |"
      ],
      "text/plain": [
       "<IPython.core.display.Markdown object>"
      ]
     },
     "metadata": {},
     "output_type": "display_data"
    },
    {
     "name": "stderr",
     "output_type": "stream",
     "text": [
      "test_bizarre (ac_tests.test_numeric_integral.<locals>.TestNumericIntegral) ... ERROR\n",
      "test_gauss (ac_tests.test_numeric_integral.<locals>.TestNumericIntegral) ... ERROR\n",
      "test_pi (ac_tests.test_numeric_integral.<locals>.TestNumericIntegral) ... ERROR\n",
      "\n",
      "======================================================================\n",
      "ERROR: test_bizarre (ac_tests.test_numeric_integral.<locals>.TestNumericIntegral)\n",
      "----------------------------------------------------------------------\n",
      "Traceback (most recent call last):\n",
      "  File \"C:\\Users\\lukaj\\Jupyter\\AC\\v1ac\\ac_tests.py\", line 751, in test_bizarre\n",
      "    np.testing.assert_almost_equal(get_integral_between(self.bizarre, -0.74, 1.07), 1.86, 0.01)\n",
      "  File \"c:\\users\\lukaj\\appdata\\local\\programs\\python\\python39\\lib\\site-packages\\numpy\\testing\\_private\\utils.py\", line 596, in assert_almost_equal\n",
      "    if abs(desired - actual) >= 1.5 * 10.0**(-decimal):\n",
      "TypeError: unsupported operand type(s) for -: 'float' and 'NoneType'\n",
      "\n",
      "======================================================================\n",
      "ERROR: test_gauss (ac_tests.test_numeric_integral.<locals>.TestNumericIntegral)\n",
      "----------------------------------------------------------------------\n",
      "Traceback (most recent call last):\n",
      "  File \"C:\\Users\\lukaj\\Jupyter\\AC\\v1ac\\ac_tests.py\", line 747, in test_gauss\n",
      "    np.testing.assert_almost_equal(get_integral_between(self.gauss, -100, 100, 0.1), math.sqrt(math.pi), 0.01)\n",
      "  File \"c:\\users\\lukaj\\appdata\\local\\programs\\python\\python39\\lib\\site-packages\\numpy\\testing\\_private\\utils.py\", line 596, in assert_almost_equal\n",
      "    if abs(desired - actual) >= 1.5 * 10.0**(-decimal):\n",
      "TypeError: unsupported operand type(s) for -: 'float' and 'NoneType'\n",
      "\n",
      "======================================================================\n",
      "ERROR: test_pi (ac_tests.test_numeric_integral.<locals>.TestNumericIntegral)\n",
      "----------------------------------------------------------------------\n",
      "Traceback (most recent call last):\n",
      "  File \"C:\\Users\\lukaj\\Jupyter\\AC\\v1ac\\ac_tests.py\", line 749, in test_pi\n",
      "    np.testing.assert_almost_equal(get_integral_between(self.pi, 0, 1), math.pi, 0.01)\n",
      "  File \"c:\\users\\lukaj\\appdata\\local\\programs\\python\\python39\\lib\\site-packages\\numpy\\testing\\_private\\utils.py\", line 596, in assert_almost_equal\n",
      "    if abs(desired - actual) >= 1.5 * 10.0**(-decimal):\n",
      "TypeError: unsupported operand type(s) for -: 'float' and 'NoneType'\n",
      "\n",
      "----------------------------------------------------------------------\n",
      "Ran 3 tests in 0.005s\n",
      "\n",
      "FAILED (errors=3)\n"
     ]
    }
   ],
   "source": [
    "def pi(self, x: float) -> float:\n",
    "    return 4 / (1+x**2)\n",
    "def gauss(self, x: float) -> float:\n",
    "    return math.e **(-x**2)\n",
    "def bizarre(x: float) -> float:\n",
    "    return (math.sin(x)**2 / -math.cos(x**4)) + math.e**x\n",
    "    \n",
    "ac_tests.test_numeric_integral(get_integral_between)"
   ]
  },
  {
   "cell_type": "markdown",
   "metadata": {
    "deletable": false,
    "editable": false
   },
   "source": [
    "### $\\to$ Bekijk hier de theorie over de integraal van een polynoom"
   ]
  },
  {
   "cell_type": "markdown",
   "metadata": {
    "deletable": false,
    "editable": false
   },
   "source": [
    "## Opdracht 10 (60p)\n",
    "Programmeer de regel voor polynomen uit in Python. De polynomen werken hetzelfde als bij opdracht 3. Omdat we in dit geval vaak met een breuk te maken zullen krijgen, kan het zijn dat Python belachelijke dingen print zoals $\\frac{6004799503160661}{18014398509481984}$ voor $\\frac{1}{3}$. Om dit te voorkomen kun je een deling `x / y` opschrijven als `Fraction(x, y)`, maar dit is niet verplicht.\n",
    "\n",
    "Tevens staan in het test-blok de gebruikte polynomen om ook zelf te kunnen debuggen als er iets misgaat."
   ]
  },
  {
   "cell_type": "code",
   "execution_count": 22,
   "metadata": {},
   "outputs": [],
   "source": [
    "def get_integral(poly: Polynomial) -> Polynomial: # TODO\n",
    "    \"\"\"Bereken de integral van een simpele polynoom. De argumenten komen binnen via een tuple.\n",
    "       `label`, `var` en `primes` zijn bedoeld voor het printen van de polynoom, en niet van \n",
    "       belang voor de opdracht. Alleen `primes` moet bij differentiëren met 1 worden opgehoogd.\n",
    "       Doel van de opdracht is vooral het aanpassen van `terms`.\n",
    "    \n",
    "    Args:\n",
    "        terms (int): Een dictionary met alle coëfficienten.\n",
    "        label (str): De naam van de functie, bijvoorbeeld f.\n",
    "        var (str): De variabele van de functie, bijvoorbeeld x.\n",
    "        primes (int): Het aantal keer dat de functie gedifferentieerd is; begint op 0\n",
    "                      en wordt elke keer met 1 verlaagd omdat we nu de andere kant op gaan.\n",
    "\n",
    "    Returns:\n",
    "        Polynomial: (terms_derivative, label, var, primes).\"\"\"\n",
    "    \n",
    "    terms, label, var, primes = poly\n",
    "    return (integral, label, var, primes - 1)"
   ]
  },
  {
   "cell_type": "code",
   "execution_count": 23,
   "metadata": {
    "deletable": false,
    "editable": false
   },
   "outputs": [
    {
     "data": {
      "text/markdown": [
       "### Tests\n",
       "| **Test** | **Betekenis** |\n",
       "|---:|:---|\n",
       "| `test_squared` | Zoekt de integraal van `x_squared` ($x^2$) |\n",
       "| `test_recip_sq` | Zoekt de integraal van `test_recip_sq` ($\\frac{1}{x^2}$) |\n",
       "| `test_root` | Zoekt de integraal van `x_root` ($\\sqrt x$) |"
      ],
      "text/plain": [
       "<IPython.core.display.Markdown object>"
      ]
     },
     "metadata": {},
     "output_type": "display_data"
    },
    {
     "name": "stderr",
     "output_type": "stream",
     "text": [
      "test_recip_sq (ac_tests.test_polynomial_integral.<locals>.TestNumericIntegral) ... ERROR\n",
      "test_root (ac_tests.test_polynomial_integral.<locals>.TestNumericIntegral) ... ERROR\n",
      "test_squared (ac_tests.test_polynomial_integral.<locals>.TestNumericIntegral) ... ERROR\n",
      "\n",
      "======================================================================\n",
      "ERROR: test_recip_sq (ac_tests.test_polynomial_integral.<locals>.TestNumericIntegral)\n",
      "----------------------------------------------------------------------\n",
      "Traceback (most recent call last):\n",
      "  File \"C:\\Users\\lukaj\\Jupyter\\AC\\v1ac\\ac_tests.py\", line 770, in test_recip_sq\n",
      "    np.testing.assert_equal(get_integral(self.x_recip_sq)[0][-1], -1)\n",
      "  File \"<ipython-input-22-a9cd77869f00>\", line 18, in get_integral\n",
      "    return (integral, label, var, primes - 1)\n",
      "NameError: name 'integral' is not defined\n",
      "\n",
      "======================================================================\n",
      "ERROR: test_root (ac_tests.test_polynomial_integral.<locals>.TestNumericIntegral)\n",
      "----------------------------------------------------------------------\n",
      "Traceback (most recent call last):\n",
      "  File \"C:\\Users\\lukaj\\Jupyter\\AC\\v1ac\\ac_tests.py\", line 772, in test_root\n",
      "    np.testing.assert_equal(get_integral(self.x_root)[0][Fraction(3,2)], Fraction(2,3))\n",
      "  File \"<ipython-input-22-a9cd77869f00>\", line 18, in get_integral\n",
      "    return (integral, label, var, primes - 1)\n",
      "NameError: name 'integral' is not defined\n",
      "\n",
      "======================================================================\n",
      "ERROR: test_squared (ac_tests.test_polynomial_integral.<locals>.TestNumericIntegral)\n",
      "----------------------------------------------------------------------\n",
      "Traceback (most recent call last):\n",
      "  File \"C:\\Users\\lukaj\\Jupyter\\AC\\v1ac\\ac_tests.py\", line 768, in test_squared\n",
      "    np.testing.assert_almost_equal(get_integral(self.x_squared)[0][3], Fraction(1,3), 0.001)\n",
      "  File \"<ipython-input-22-a9cd77869f00>\", line 18, in get_integral\n",
      "    return (integral, label, var, primes - 1)\n",
      "NameError: name 'integral' is not defined\n",
      "\n",
      "----------------------------------------------------------------------\n",
      "Ran 3 tests in 0.007s\n",
      "\n",
      "FAILED (errors=3)\n"
     ]
    }
   ],
   "source": [
    "x_squared = polynomial({1: 0, 2: 1})\n",
    "x_recip_sq = polynomial({1: 0, -2: 1})\n",
    "x_root = polynomial({1/2: 1})\n",
    "\n",
    "ac_tests.test_polynomial_integral(get_integral)"
   ]
  },
  {
   "cell_type": "markdown",
   "metadata": {
    "deletable": false,
    "editable": false
   },
   "source": [
    "# Checkpoint Delta\n",
    "Als je alles hierboven hebt gemaakt kun je je werk inleveren. Als de testen aangeven dat er nog fouten in zitten, probeer deze dan te verbeteren, maar schroom ook niet om de docent om hulp te vragen als je er niet uitkomt.\n",
    "\n",
    "Om je werk in te leveren moet je er allereerst voor zorgen dat je Notebook is opgeslagen (ctrl-s of het icoontje in de toolbar). Daarna kun je een Git-commit maken en deze naar je eigen GitHub of GitLab pushen. De link naar je repository is uiteindelijk wat je inlevert op Canvas, om de docent een seintje te geven dat er werk te beoordelen is."
   ]
  }
 ],
 "metadata": {
  "kernelspec": {
   "display_name": "Python 3",
   "language": "python",
   "name": "python3"
  },
  "language_info": {
   "codemirror_mode": {
    "name": "ipython",
    "version": 3
   },
   "file_extension": ".py",
   "mimetype": "text/x-python",
   "name": "python",
   "nbconvert_exporter": "python",
   "pygments_lexer": "ipython3",
   "version": "3.9.1"
  }
 },
 "nbformat": 4,
 "nbformat_minor": 4
}
